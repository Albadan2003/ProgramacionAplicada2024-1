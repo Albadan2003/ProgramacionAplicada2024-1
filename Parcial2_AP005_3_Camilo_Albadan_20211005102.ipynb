{
  "nbformat": 4,
  "nbformat_minor": 0,
  "metadata": {
    "colab": {
      "provenance": [],
      "authorship_tag": "ABX9TyNA/ovQ4Q0A8S+en2Qryl7g",
      "include_colab_link": true
    },
    "kernelspec": {
      "name": "python3",
      "display_name": "Python 3"
    },
    "language_info": {
      "name": "python"
    }
  },
  "cells": [
    {
      "cell_type": "markdown",
      "metadata": {
        "id": "view-in-github",
        "colab_type": "text"
      },
      "source": [
        "<a href=\"https://colab.research.google.com/github/Albadan2003/ProgramacionAplicada2024-1/blob/main/Parcial2_AP005_3_Camilo_Albadan_20211005102.ipynb\" target=\"_parent\"><img src=\"https://colab.research.google.com/assets/colab-badge.svg\" alt=\"Open In Colab\"/></a>"
      ]
    },
    {
      "cell_type": "markdown",
      "source": [
        "#Parcial 2 Programación Aplicada 005-3#  \n",
        "**Nombre:** Camilo Felipe Albadan Daza\n",
        "**Codigo:** 20211005102"
      ],
      "metadata": {
        "id": "0luSPVsMbv8b"
      }
    },
    {
      "cell_type": "code",
      "source": [
        "from google.colab import drive\n",
        "\n",
        "# Montar Google Drive\n",
        "drive.mount('/content/drive')\n"
      ],
      "metadata": {
        "colab": {
          "base_uri": "https://localhost:8080/"
        },
        "id": "HklY9c4YxY7S",
        "outputId": "b4b11783-2522-4fa5-8009-de43213b6ed4"
      },
      "execution_count": 4,
      "outputs": [
        {
          "output_type": "stream",
          "name": "stdout",
          "text": [
            "Mounted at /content/drive\n"
          ]
        }
      ]
    },
    {
      "cell_type": "code",
      "source": [
        "import pandas as pd\n",
        "\n",
        "# Especificar la ruta al archivo CSV en tu Google Drive\n",
        "file_path = '/content/drive/My Drive/ABC - Sales.csv'\n",
        "\n",
        "# Cargar el archivo CSV en el DataFrame ventas\n",
        "ventas = pd.read_csv(file_path)\n",
        "\n",
        "# Mostrar el DataFrame cargado\n",
        "print(ventas)\n"
      ],
      "metadata": {
        "colab": {
          "base_uri": "https://localhost:8080/"
        },
        "id": "3h7AgPgCx7Vc",
        "outputId": "6e021c0a-fe6c-4a7f-db33-0fc927df439e"
      },
      "execution_count": 5,
      "outputs": [
        {
          "output_type": "stream",
          "name": "stdout",
          "text": [
            "    sale_id  cust_id  prod_id     product  qty     store_location\n",
            "0       101       30        5      Heater    2      Fairview Mall\n",
            "1       102       20       14       Piano    2            Rotunda\n",
            "2       103       20       17   Microwave    1  Kessington Market\n",
            "3       104        5        3     Speaker    3      Fairview Mall\n",
            "4       105       10        4  Humidifier    1           Shoppers\n",
            "5       106       14        4  Humidifier    1           Shoppers\n",
            "6       107       28        2     Printer    3  Kessington Market\n",
            "7       108       27       14       Piano    2        Brisby Mall\n",
            "8       109        4        5      Heater    2        Brisby Mall\n",
            "9       110        8        3     Speaker    3           Shoppers\n",
            "10      111       30        4  Humidifier    2           Shoppers\n",
            "11      112        8       13  Microphone    2  Kessington Market\n",
            "12      113       13        5      Heater    2           Shoppers\n",
            "13      114       30       15      Tripod    2            Rotunda\n",
            "14      115       20       13  Microphone    2  Kessington Market\n",
            "15      116        2        3     Speaker    2        Brisby Mall\n",
            "16      117       10        3     Speaker    3  Kessington Market\n",
            "17      118        8       17   Microwave    3           Shoppers\n",
            "18      119        5        5      Heater    2            Rotunda\n",
            "19      120       28        1   Headphone    1        Brisby Mall\n",
            "20      121        4        5      Heater    3           Shoppers\n",
            "21      122       24       16       Mixer    2        Brisby Mall\n",
            "22      123       10        1   Headphone    2  Kessington Market\n",
            "23      124       13       15      Tripod    1        Brisby Mall\n",
            "24      125       27       17   Microwave    3           Shoppers\n",
            "25      126        7        2     Printer    2  Kessington Market\n",
            "26      127       24       14       Piano    1  Kessington Market\n",
            "27      128       15       13  Microphone    1            Rotunda\n",
            "28      129       14       19       Dryer    1        Brisby Mall\n",
            "29      130       13       18      Washer    2           Shoppers\n"
          ]
        }
      ]
    },
    {
      "cell_type": "markdown",
      "source": [
        "2.Visualización de las primeras 12 filas del DataFrame ventas"
      ],
      "metadata": {
        "id": "ukfemCXNy-rM"
      }
    },
    {
      "cell_type": "code",
      "source": [
        "# Mostrar las primeras 12 filas\n",
        "print(ventas.head(12))\n"
      ],
      "metadata": {
        "colab": {
          "base_uri": "https://localhost:8080/"
        },
        "id": "yWMKKdvozb9j",
        "outputId": "57c937df-7982-479e-bfa5-9d25236a3c02"
      },
      "execution_count": null,
      "outputs": [
        {
          "output_type": "stream",
          "name": "stdout",
          "text": [
            "    sale_id  cust_id  prod_id     product  qty     store_location\n",
            "0       101       30        5      Heater    2      Fairview Mall\n",
            "1       102       20       14       Piano    2            Rotunda\n",
            "2       103       20       17   Microwave    1  Kessington Market\n",
            "3       104        5        3     Speaker    3      Fairview Mall\n",
            "4       105       10        4  Humidifier    1           Shoppers\n",
            "5       106       14        4  Humidifier    1           Shoppers\n",
            "6       107       28        2     Printer    3  Kessington Market\n",
            "7       108       27       14       Piano    2        Brisby Mall\n",
            "8       109        4        5      Heater    2        Brisby Mall\n",
            "9       110        8        3     Speaker    3           Shoppers\n",
            "10      111       30        4  Humidifier    2           Shoppers\n",
            "11      112        8       13  Microphone    2  Kessington Market\n"
          ]
        }
      ]
    },
    {
      "cell_type": "markdown",
      "source": [
        "3. Visualización de las últimas 15 filas del DataFrame ventas"
      ],
      "metadata": {
        "id": "h5QyDqMszes-"
      }
    },
    {
      "cell_type": "code",
      "source": [
        "# Mostrar las últimas 15 filas\n",
        "print(ventas.tail(15))\n"
      ],
      "metadata": {
        "colab": {
          "base_uri": "https://localhost:8080/"
        },
        "id": "1SOP8WiVzsaU",
        "outputId": "67269b45-b03c-4faa-98fd-e9a590184c25"
      },
      "execution_count": null,
      "outputs": [
        {
          "output_type": "stream",
          "name": "stdout",
          "text": [
            "    sale_id  cust_id  prod_id     product  qty     store_location\n",
            "15      116        2        3     Speaker    2        Brisby Mall\n",
            "16      117       10        3     Speaker    3  Kessington Market\n",
            "17      118        8       17   Microwave    3           Shoppers\n",
            "18      119        5        5      Heater    2            Rotunda\n",
            "19      120       28        1   Headphone    1        Brisby Mall\n",
            "20      121        4        5      Heater    3           Shoppers\n",
            "21      122       24       16       Mixer    2        Brisby Mall\n",
            "22      123       10        1   Headphone    2  Kessington Market\n",
            "23      124       13       15      Tripod    1        Brisby Mall\n",
            "24      125       27       17   Microwave    3           Shoppers\n",
            "25      126        7        2     Printer    2  Kessington Market\n",
            "26      127       24       14       Piano    1  Kessington Market\n",
            "27      128       15       13  Microphone    1            Rotunda\n",
            "28      129       14       19       Dryer    1        Brisby Mall\n",
            "29      130       13       18      Washer    2           Shoppers\n"
          ]
        }
      ]
    },
    {
      "cell_type": "markdown",
      "source": [
        "4. Crear una serie llamada “StoreLoc” que cargue exclusivamente la localización de las tiendas"
      ],
      "metadata": {
        "id": "HmvAgiYRzzi6"
      }
    },
    {
      "cell_type": "code",
      "source": [
        "# Crear la serie StoreLoc\n",
        "StoreLoc = ventas['store_location']\n",
        "\n",
        "# Mostrar la serie StoreLoc\n",
        "print(StoreLoc)\n"
      ],
      "metadata": {
        "colab": {
          "base_uri": "https://localhost:8080/"
        },
        "id": "x-DbB03sz6ab",
        "outputId": "7e108b60-8fdd-4d88-f1fb-5166119c5c25"
      },
      "execution_count": null,
      "outputs": [
        {
          "output_type": "stream",
          "name": "stdout",
          "text": [
            "0         Fairview Mall\n",
            "1               Rotunda\n",
            "2     Kessington Market\n",
            "3         Fairview Mall\n",
            "4              Shoppers\n",
            "5              Shoppers\n",
            "6     Kessington Market\n",
            "7           Brisby Mall\n",
            "8           Brisby Mall\n",
            "9              Shoppers\n",
            "10             Shoppers\n",
            "11    Kessington Market\n",
            "12             Shoppers\n",
            "13              Rotunda\n",
            "14    Kessington Market\n",
            "15          Brisby Mall\n",
            "16    Kessington Market\n",
            "17             Shoppers\n",
            "18              Rotunda\n",
            "19          Brisby Mall\n",
            "20             Shoppers\n",
            "21          Brisby Mall\n",
            "22    Kessington Market\n",
            "23          Brisby Mall\n",
            "24             Shoppers\n",
            "25    Kessington Market\n",
            "26    Kessington Market\n",
            "27              Rotunda\n",
            "28          Brisby Mall\n",
            "29             Shoppers\n",
            "Name: store_location, dtype: object\n"
          ]
        }
      ]
    },
    {
      "cell_type": "markdown",
      "source": [
        "5. Crear una serie llamada “IdComprador” que cargue exclusivamente el ID de los compradores (“cust_id”)"
      ],
      "metadata": {
        "id": "upUi4rrm4_3G"
      }
    },
    {
      "cell_type": "code",
      "source": [
        "# Crear la serie IdComprador\n",
        "IdComprador = ventas['cust_id']\n",
        "\n",
        "# Mostrar la serie IdComprador\n",
        "print(IdComprador)\n"
      ],
      "metadata": {
        "colab": {
          "base_uri": "https://localhost:8080/"
        },
        "id": "XCtXvWkk4rEQ",
        "outputId": "6070fa44-559e-4163-de72-7d9a5acb1a9a"
      },
      "execution_count": null,
      "outputs": [
        {
          "output_type": "stream",
          "name": "stdout",
          "text": [
            "0     30\n",
            "1     20\n",
            "2     20\n",
            "3      5\n",
            "4     10\n",
            "5     14\n",
            "6     28\n",
            "7     27\n",
            "8      4\n",
            "9      8\n",
            "10    30\n",
            "11     8\n",
            "12    13\n",
            "13    30\n",
            "14    20\n",
            "15     2\n",
            "16    10\n",
            "17     8\n",
            "18     5\n",
            "19    28\n",
            "20     4\n",
            "21    24\n",
            "22    10\n",
            "23    13\n",
            "24    27\n",
            "25     7\n",
            "26    24\n",
            "27    15\n",
            "28    14\n",
            "29    13\n",
            "Name: cust_id, dtype: int64\n"
          ]
        }
      ]
    },
    {
      "cell_type": "markdown",
      "source": [
        "6. Crear una serie llamada “IdVenta” que cargue exclusivamente el ID de las tiendas (“sale_id”)"
      ],
      "metadata": {
        "id": "DA8x-KiI5E4n"
      }
    },
    {
      "cell_type": "code",
      "source": [
        "# Crear la serie IdVenta\n",
        "IdVenta = ventas['sale_id']\n",
        "\n",
        "# Mostrar la serie IdVenta\n",
        "print(IdVenta)\n"
      ],
      "metadata": {
        "colab": {
          "base_uri": "https://localhost:8080/"
        },
        "id": "-HU4SYpv5EsQ",
        "outputId": "7cb4ff5f-3813-435b-dabc-ea012ab12e6e"
      },
      "execution_count": null,
      "outputs": [
        {
          "output_type": "stream",
          "name": "stdout",
          "text": [
            "0     101\n",
            "1     102\n",
            "2     103\n",
            "3     104\n",
            "4     105\n",
            "5     106\n",
            "6     107\n",
            "7     108\n",
            "8     109\n",
            "9     110\n",
            "10    111\n",
            "11    112\n",
            "12    113\n",
            "13    114\n",
            "14    115\n",
            "15    116\n",
            "16    117\n",
            "17    118\n",
            "18    119\n",
            "19    120\n",
            "20    121\n",
            "21    122\n",
            "22    123\n",
            "23    124\n",
            "24    125\n",
            "25    126\n",
            "26    127\n",
            "27    128\n",
            "28    129\n",
            "29    130\n",
            "Name: sale_id, dtype: int64\n"
          ]
        }
      ]
    },
    {
      "cell_type": "markdown",
      "source": [
        "7. Organizar StoreLoc en orden descendente. Solo visualización"
      ],
      "metadata": {
        "id": "gfTK3Hmh5gt-"
      }
    },
    {
      "cell_type": "code",
      "source": [
        "# Organizar StoreLoc en orden descendente\n",
        "print(StoreLoc.sort_values(ascending=False))\n"
      ],
      "metadata": {
        "colab": {
          "base_uri": "https://localhost:8080/"
        },
        "id": "rkbk89Ey5hR3",
        "outputId": "8e70bdac-6db5-4388-8520-cf0c4c33cec0"
      },
      "execution_count": null,
      "outputs": [
        {
          "output_type": "stream",
          "name": "stdout",
          "text": [
            "29             Shoppers\n",
            "9              Shoppers\n",
            "24             Shoppers\n",
            "17             Shoppers\n",
            "12             Shoppers\n",
            "10             Shoppers\n",
            "5              Shoppers\n",
            "4              Shoppers\n",
            "20             Shoppers\n",
            "13              Rotunda\n",
            "1               Rotunda\n",
            "27              Rotunda\n",
            "18              Rotunda\n",
            "6     Kessington Market\n",
            "26    Kessington Market\n",
            "25    Kessington Market\n",
            "22    Kessington Market\n",
            "11    Kessington Market\n",
            "14    Kessington Market\n",
            "16    Kessington Market\n",
            "2     Kessington Market\n",
            "0         Fairview Mall\n",
            "3         Fairview Mall\n",
            "21          Brisby Mall\n",
            "23          Brisby Mall\n",
            "19          Brisby Mall\n",
            "8           Brisby Mall\n",
            "7           Brisby Mall\n",
            "28          Brisby Mall\n",
            "15          Brisby Mall\n",
            "Name: store_location, dtype: object\n"
          ]
        }
      ]
    },
    {
      "cell_type": "markdown",
      "source": [
        "8. Organizar IdComprador en orden descendente. Solo visualización"
      ],
      "metadata": {
        "id": "ylgdAJ_65vi9"
      }
    },
    {
      "cell_type": "code",
      "source": [
        "# Organizar IdComprador en orden descendente\n",
        "print(IdComprador.sort_values(ascending=False))\n"
      ],
      "metadata": {
        "colab": {
          "base_uri": "https://localhost:8080/"
        },
        "id": "bNUQfmWv5vLC",
        "outputId": "560c8f92-fcbb-4990-87cf-60e55a4a76be"
      },
      "execution_count": null,
      "outputs": [
        {
          "output_type": "stream",
          "name": "stdout",
          "text": [
            "0     30\n",
            "10    30\n",
            "13    30\n",
            "19    28\n",
            "6     28\n",
            "7     27\n",
            "24    27\n",
            "26    24\n",
            "21    24\n",
            "2     20\n",
            "14    20\n",
            "1     20\n",
            "27    15\n",
            "28    14\n",
            "5     14\n",
            "23    13\n",
            "29    13\n",
            "12    13\n",
            "16    10\n",
            "22    10\n",
            "4     10\n",
            "17     8\n",
            "11     8\n",
            "9      8\n",
            "25     7\n",
            "18     5\n",
            "3      5\n",
            "20     4\n",
            "8      4\n",
            "15     2\n",
            "Name: cust_id, dtype: int64\n"
          ]
        }
      ]
    },
    {
      "cell_type": "markdown",
      "source": [
        "9. Organizar IdVenta en orden descendente. Solo visualización"
      ],
      "metadata": {
        "id": "NOaiL5Hh7M-i"
      }
    },
    {
      "cell_type": "code",
      "source": [
        "# Organizar IdVenta en orden descendente\n",
        "print(IdVenta.sort_values(ascending=False))\n"
      ],
      "metadata": {
        "colab": {
          "base_uri": "https://localhost:8080/"
        },
        "id": "TuE8Kicj7MdX",
        "outputId": "f8a8040a-3a12-4dfd-cde3-c06dd5ed394c"
      },
      "execution_count": null,
      "outputs": [
        {
          "output_type": "stream",
          "name": "stdout",
          "text": [
            "29    130\n",
            "28    129\n",
            "27    128\n",
            "26    127\n",
            "25    126\n",
            "24    125\n",
            "23    124\n",
            "22    123\n",
            "21    122\n",
            "20    121\n",
            "19    120\n",
            "18    119\n",
            "17    118\n",
            "16    117\n",
            "15    116\n",
            "14    115\n",
            "13    114\n",
            "12    113\n",
            "11    112\n",
            "10    111\n",
            "9     110\n",
            "8     109\n",
            "7     108\n",
            "6     107\n",
            "5     106\n",
            "4     105\n",
            "3     104\n",
            "2     103\n",
            "1     102\n",
            "0     101\n",
            "Name: sale_id, dtype: int64\n"
          ]
        }
      ]
    },
    {
      "cell_type": "markdown",
      "source": [
        "10. Presentar una visualización de las columnas “producto, qty, store_location”"
      ],
      "metadata": {
        "id": "HuZO4RQd7W9s"
      }
    },
    {
      "cell_type": "code",
      "source": [
        "# Visualización de las columnas \"producto, qty, store_location\"\n",
        "print(ventas[['product', 'qty', 'store_location']])\n"
      ],
      "metadata": {
        "colab": {
          "base_uri": "https://localhost:8080/"
        },
        "id": "IXVfRX1L7XaW",
        "outputId": "8b91b1b6-81cd-4fc9-d410-0f2e3c50bcc3"
      },
      "execution_count": null,
      "outputs": [
        {
          "output_type": "stream",
          "name": "stdout",
          "text": [
            "       product  qty     store_location\n",
            "0       Heater    2      Fairview Mall\n",
            "1        Piano    2            Rotunda\n",
            "2    Microwave    1  Kessington Market\n",
            "3      Speaker    3      Fairview Mall\n",
            "4   Humidifier    1           Shoppers\n",
            "5   Humidifier    1           Shoppers\n",
            "6      Printer    3  Kessington Market\n",
            "7        Piano    2        Brisby Mall\n",
            "8       Heater    2        Brisby Mall\n",
            "9      Speaker    3           Shoppers\n",
            "10  Humidifier    2           Shoppers\n",
            "11  Microphone    2  Kessington Market\n",
            "12      Heater    2           Shoppers\n",
            "13      Tripod    2            Rotunda\n",
            "14  Microphone    2  Kessington Market\n",
            "15     Speaker    2        Brisby Mall\n",
            "16     Speaker    3  Kessington Market\n",
            "17   Microwave    3           Shoppers\n",
            "18      Heater    2            Rotunda\n",
            "19   Headphone    1        Brisby Mall\n",
            "20      Heater    3           Shoppers\n",
            "21       Mixer    2        Brisby Mall\n",
            "22   Headphone    2  Kessington Market\n",
            "23      Tripod    1        Brisby Mall\n",
            "24   Microwave    3           Shoppers\n",
            "25     Printer    2  Kessington Market\n",
            "26       Piano    1  Kessington Market\n",
            "27  Microphone    1            Rotunda\n",
            "28       Dryer    1        Brisby Mall\n",
            "29      Washer    2           Shoppers\n"
          ]
        }
      ]
    },
    {
      "cell_type": "markdown",
      "source": [
        "11. Indicar cuántos datos nulos se tienen para cada ítem en el DataFrame ventas"
      ],
      "metadata": {
        "id": "Xbip9ZJ78FjG"
      }
    },
    {
      "cell_type": "code",
      "source": [
        "# Número de datos nulos para cada ítem\n",
        "print(ventas.isnull().sum())\n"
      ],
      "metadata": {
        "colab": {
          "base_uri": "https://localhost:8080/"
        },
        "id": "IaPhd70W8FDm",
        "outputId": "d068ff8e-c820-4987-c447-9bce70aa52a6"
      },
      "execution_count": null,
      "outputs": [
        {
          "output_type": "stream",
          "name": "stdout",
          "text": [
            "sale_id           0\n",
            "cust_id           0\n",
            "prod_id           0\n",
            "product           0\n",
            "qty               0\n",
            "store_location    0\n",
            "dtype: int64\n"
          ]
        }
      ]
    },
    {
      "cell_type": "markdown",
      "source": [
        "12. Indicar para cada producto el número de productos vendidos"
      ],
      "metadata": {
        "id": "6FzY07Lf8Q80"
      }
    },
    {
      "cell_type": "code",
      "source": [
        "# Número de productos vendidos para cada producto\n",
        "print(ventas.groupby('product')['qty'].sum())\n"
      ],
      "metadata": {
        "colab": {
          "base_uri": "https://localhost:8080/"
        },
        "id": "dJ1R2Upn8Qvg",
        "outputId": "dc917ac3-efec-4246-fb8e-7a2af90e78dd"
      },
      "execution_count": null,
      "outputs": [
        {
          "output_type": "stream",
          "name": "stdout",
          "text": [
            "product\n",
            "Dryer          1\n",
            "Headphone      3\n",
            "Heater        11\n",
            "Humidifier     4\n",
            "Microphone     5\n",
            "Microwave      7\n",
            "Mixer          2\n",
            "Piano          5\n",
            "Printer        5\n",
            "Speaker       11\n",
            "Tripod         3\n",
            "Washer         2\n",
            "Name: qty, dtype: int64\n"
          ]
        }
      ]
    },
    {
      "cell_type": "markdown",
      "source": [
        "13. Indicar para cada id de producto (prod_id) el número de productos vendidos"
      ],
      "metadata": {
        "id": "GJyjXDntYOU0"
      }
    },
    {
      "cell_type": "code",
      "source": [
        "# Número de productos vendidos para cada prod_id\n",
        "print(ventas.groupby('prod_id')['qty'].sum())\n"
      ],
      "metadata": {
        "colab": {
          "base_uri": "https://localhost:8080/"
        },
        "id": "sQ8crJoZYPsD",
        "outputId": "42f86c7d-7b7c-45a8-8570-eacc604807d8"
      },
      "execution_count": 6,
      "outputs": [
        {
          "output_type": "stream",
          "name": "stdout",
          "text": [
            "prod_id\n",
            "1      3\n",
            "2      5\n",
            "3     11\n",
            "4      4\n",
            "5     11\n",
            "13     5\n",
            "14     5\n",
            "15     3\n",
            "16     2\n",
            "17     7\n",
            "18     2\n",
            "19     1\n",
            "Name: qty, dtype: int64\n"
          ]
        }
      ]
    },
    {
      "cell_type": "markdown",
      "source": [
        "14. Organizar el DataFrame ventas de menor a mayor de acuerdo al prod_id. Solo visualización"
      ],
      "metadata": {
        "id": "-orMR7c8ZrhI"
      }
    },
    {
      "cell_type": "code",
      "source": [
        "# Organizar ventas por prod_id de menor a mayor\n",
        "print(ventas.sort_values(by='prod_id'))\n"
      ],
      "metadata": {
        "colab": {
          "base_uri": "https://localhost:8080/"
        },
        "id": "6EQvaTIQZq-B",
        "outputId": "5106462e-61c6-4e8d-a791-628ce08ddd64"
      },
      "execution_count": 7,
      "outputs": [
        {
          "output_type": "stream",
          "name": "stdout",
          "text": [
            "    sale_id  cust_id  prod_id     product  qty     store_location\n",
            "22      123       10        1   Headphone    2  Kessington Market\n",
            "19      120       28        1   Headphone    1        Brisby Mall\n",
            "25      126        7        2     Printer    2  Kessington Market\n",
            "6       107       28        2     Printer    3  Kessington Market\n",
            "16      117       10        3     Speaker    3  Kessington Market\n",
            "3       104        5        3     Speaker    3      Fairview Mall\n",
            "15      116        2        3     Speaker    2        Brisby Mall\n",
            "9       110        8        3     Speaker    3           Shoppers\n",
            "4       105       10        4  Humidifier    1           Shoppers\n",
            "5       106       14        4  Humidifier    1           Shoppers\n",
            "10      111       30        4  Humidifier    2           Shoppers\n",
            "18      119        5        5      Heater    2            Rotunda\n",
            "0       101       30        5      Heater    2      Fairview Mall\n",
            "20      121        4        5      Heater    3           Shoppers\n",
            "12      113       13        5      Heater    2           Shoppers\n",
            "8       109        4        5      Heater    2        Brisby Mall\n",
            "27      128       15       13  Microphone    1            Rotunda\n",
            "14      115       20       13  Microphone    2  Kessington Market\n",
            "11      112        8       13  Microphone    2  Kessington Market\n",
            "7       108       27       14       Piano    2        Brisby Mall\n",
            "26      127       24       14       Piano    1  Kessington Market\n",
            "1       102       20       14       Piano    2            Rotunda\n",
            "13      114       30       15      Tripod    2            Rotunda\n",
            "23      124       13       15      Tripod    1        Brisby Mall\n",
            "21      122       24       16       Mixer    2        Brisby Mall\n",
            "24      125       27       17   Microwave    3           Shoppers\n",
            "2       103       20       17   Microwave    1  Kessington Market\n",
            "17      118        8       17   Microwave    3           Shoppers\n",
            "29      130       13       18      Washer    2           Shoppers\n",
            "28      129       14       19       Dryer    1        Brisby Mall\n"
          ]
        }
      ]
    },
    {
      "cell_type": "markdown",
      "source": [
        "15. Organizar el DataFrame ventas de menor a mayor de acuerdo al cust_id. Solo visualización"
      ],
      "metadata": {
        "id": "VJe-sVb3Zys9"
      }
    },
    {
      "cell_type": "code",
      "source": [
        "# Organizar ventas por cust_id de menor a mayor\n",
        "print(ventas.sort_values(by='cust_id'))\n"
      ],
      "metadata": {
        "colab": {
          "base_uri": "https://localhost:8080/"
        },
        "id": "y6ZcjH_tZyfH",
        "outputId": "e052914f-7bcb-4fed-a38c-612557e0196e"
      },
      "execution_count": 8,
      "outputs": [
        {
          "output_type": "stream",
          "name": "stdout",
          "text": [
            "    sale_id  cust_id  prod_id     product  qty     store_location\n",
            "15      116        2        3     Speaker    2        Brisby Mall\n",
            "8       109        4        5      Heater    2        Brisby Mall\n",
            "20      121        4        5      Heater    3           Shoppers\n",
            "3       104        5        3     Speaker    3      Fairview Mall\n",
            "18      119        5        5      Heater    2            Rotunda\n",
            "25      126        7        2     Printer    2  Kessington Market\n",
            "11      112        8       13  Microphone    2  Kessington Market\n",
            "9       110        8        3     Speaker    3           Shoppers\n",
            "17      118        8       17   Microwave    3           Shoppers\n",
            "22      123       10        1   Headphone    2  Kessington Market\n",
            "4       105       10        4  Humidifier    1           Shoppers\n",
            "16      117       10        3     Speaker    3  Kessington Market\n",
            "23      124       13       15      Tripod    1        Brisby Mall\n",
            "12      113       13        5      Heater    2           Shoppers\n",
            "29      130       13       18      Washer    2           Shoppers\n",
            "5       106       14        4  Humidifier    1           Shoppers\n",
            "28      129       14       19       Dryer    1        Brisby Mall\n",
            "27      128       15       13  Microphone    1            Rotunda\n",
            "14      115       20       13  Microphone    2  Kessington Market\n",
            "2       103       20       17   Microwave    1  Kessington Market\n",
            "1       102       20       14       Piano    2            Rotunda\n",
            "21      122       24       16       Mixer    2        Brisby Mall\n",
            "26      127       24       14       Piano    1  Kessington Market\n",
            "7       108       27       14       Piano    2        Brisby Mall\n",
            "24      125       27       17   Microwave    3           Shoppers\n",
            "19      120       28        1   Headphone    1        Brisby Mall\n",
            "6       107       28        2     Printer    3  Kessington Market\n",
            "10      111       30        4  Humidifier    2           Shoppers\n",
            "13      114       30       15      Tripod    2            Rotunda\n",
            "0       101       30        5      Heater    2      Fairview Mall\n"
          ]
        }
      ]
    },
    {
      "cell_type": "markdown",
      "source": [
        "16. Organizar el DataFrame ventas de menor a mayor de acuerdo al cust_id, siguiendo prioridad el ítem prod_id. Solo visualización"
      ],
      "metadata": {
        "id": "Qbqx0fCYZ7v4"
      }
    },
    {
      "cell_type": "code",
      "source": [
        "# Organizar ventas por cust_id y luego por prod_id de menor a mayor\n",
        "print(ventas.sort_values(by=['cust_id', 'prod_id']))\n"
      ],
      "metadata": {
        "colab": {
          "base_uri": "https://localhost:8080/"
        },
        "id": "kZPOf1x7Z7VS",
        "outputId": "a3d7d3f1-7592-48c5-f4d8-8947343fd9a0"
      },
      "execution_count": 9,
      "outputs": [
        {
          "output_type": "stream",
          "name": "stdout",
          "text": [
            "    sale_id  cust_id  prod_id     product  qty     store_location\n",
            "15      116        2        3     Speaker    2        Brisby Mall\n",
            "8       109        4        5      Heater    2        Brisby Mall\n",
            "20      121        4        5      Heater    3           Shoppers\n",
            "3       104        5        3     Speaker    3      Fairview Mall\n",
            "18      119        5        5      Heater    2            Rotunda\n",
            "25      126        7        2     Printer    2  Kessington Market\n",
            "9       110        8        3     Speaker    3           Shoppers\n",
            "11      112        8       13  Microphone    2  Kessington Market\n",
            "17      118        8       17   Microwave    3           Shoppers\n",
            "22      123       10        1   Headphone    2  Kessington Market\n",
            "16      117       10        3     Speaker    3  Kessington Market\n",
            "4       105       10        4  Humidifier    1           Shoppers\n",
            "12      113       13        5      Heater    2           Shoppers\n",
            "23      124       13       15      Tripod    1        Brisby Mall\n",
            "29      130       13       18      Washer    2           Shoppers\n",
            "5       106       14        4  Humidifier    1           Shoppers\n",
            "28      129       14       19       Dryer    1        Brisby Mall\n",
            "27      128       15       13  Microphone    1            Rotunda\n",
            "14      115       20       13  Microphone    2  Kessington Market\n",
            "1       102       20       14       Piano    2            Rotunda\n",
            "2       103       20       17   Microwave    1  Kessington Market\n",
            "26      127       24       14       Piano    1  Kessington Market\n",
            "21      122       24       16       Mixer    2        Brisby Mall\n",
            "7       108       27       14       Piano    2        Brisby Mall\n",
            "24      125       27       17   Microwave    3           Shoppers\n",
            "19      120       28        1   Headphone    1        Brisby Mall\n",
            "6       107       28        2     Printer    3  Kessington Market\n",
            "10      111       30        4  Humidifier    2           Shoppers\n",
            "0       101       30        5      Heater    2      Fairview Mall\n",
            "13      114       30       15      Tripod    2            Rotunda\n"
          ]
        }
      ]
    },
    {
      "cell_type": "markdown",
      "source": [
        "17. Organizar el DataFrame ventas por índice en orden descendente. Solo visualización"
      ],
      "metadata": {
        "id": "zUu7_He3aBJi"
      }
    },
    {
      "cell_type": "code",
      "source": [
        "# Organizar ventas por índice en orden descendente\n",
        "print(ventas.sort_index(ascending=False))\n"
      ],
      "metadata": {
        "colab": {
          "base_uri": "https://localhost:8080/"
        },
        "id": "eggHZwDAaA_R",
        "outputId": "9f6c3c4e-d9c5-416f-ee21-3db26fc77ccf"
      },
      "execution_count": 10,
      "outputs": [
        {
          "output_type": "stream",
          "name": "stdout",
          "text": [
            "    sale_id  cust_id  prod_id     product  qty     store_location\n",
            "29      130       13       18      Washer    2           Shoppers\n",
            "28      129       14       19       Dryer    1        Brisby Mall\n",
            "27      128       15       13  Microphone    1            Rotunda\n",
            "26      127       24       14       Piano    1  Kessington Market\n",
            "25      126        7        2     Printer    2  Kessington Market\n",
            "24      125       27       17   Microwave    3           Shoppers\n",
            "23      124       13       15      Tripod    1        Brisby Mall\n",
            "22      123       10        1   Headphone    2  Kessington Market\n",
            "21      122       24       16       Mixer    2        Brisby Mall\n",
            "20      121        4        5      Heater    3           Shoppers\n",
            "19      120       28        1   Headphone    1        Brisby Mall\n",
            "18      119        5        5      Heater    2            Rotunda\n",
            "17      118        8       17   Microwave    3           Shoppers\n",
            "16      117       10        3     Speaker    3  Kessington Market\n",
            "15      116        2        3     Speaker    2        Brisby Mall\n",
            "14      115       20       13  Microphone    2  Kessington Market\n",
            "13      114       30       15      Tripod    2            Rotunda\n",
            "12      113       13        5      Heater    2           Shoppers\n",
            "11      112        8       13  Microphone    2  Kessington Market\n",
            "10      111       30        4  Humidifier    2           Shoppers\n",
            "9       110        8        3     Speaker    3           Shoppers\n",
            "8       109        4        5      Heater    2        Brisby Mall\n",
            "7       108       27       14       Piano    2        Brisby Mall\n",
            "6       107       28        2     Printer    3  Kessington Market\n",
            "5       106       14        4  Humidifier    1           Shoppers\n",
            "4       105       10        4  Humidifier    1           Shoppers\n",
            "3       104        5        3     Speaker    3      Fairview Mall\n",
            "2       103       20       17   Microwave    1  Kessington Market\n",
            "1       102       20       14       Piano    2            Rotunda\n",
            "0       101       30        5      Heater    2      Fairview Mall\n"
          ]
        }
      ]
    },
    {
      "cell_type": "markdown",
      "source": [
        "\n",
        "18. Optimizar el DataFrame ventas y guardarlo en un DataFrame llamado ventasOptimizado"
      ],
      "metadata": {
        "id": "lu7jHiIaaGr5"
      }
    },
    {
      "cell_type": "code",
      "source": [
        "# Optimización del DataFrame (eliminación de datos nulos)\n",
        "ventasOptimizado = ventas.dropna()\n",
        "\n",
        "# Mostrar el DataFrame optimizado\n",
        "print(ventasOptimizado)\n"
      ],
      "metadata": {
        "colab": {
          "base_uri": "https://localhost:8080/"
        },
        "id": "3r9TXzueaGgA",
        "outputId": "a1cfacd5-7e94-4abb-8ca5-b3187e07528b"
      },
      "execution_count": 11,
      "outputs": [
        {
          "output_type": "stream",
          "name": "stdout",
          "text": [
            "    sale_id  cust_id  prod_id     product  qty     store_location\n",
            "0       101       30        5      Heater    2      Fairview Mall\n",
            "1       102       20       14       Piano    2            Rotunda\n",
            "2       103       20       17   Microwave    1  Kessington Market\n",
            "3       104        5        3     Speaker    3      Fairview Mall\n",
            "4       105       10        4  Humidifier    1           Shoppers\n",
            "5       106       14        4  Humidifier    1           Shoppers\n",
            "6       107       28        2     Printer    3  Kessington Market\n",
            "7       108       27       14       Piano    2        Brisby Mall\n",
            "8       109        4        5      Heater    2        Brisby Mall\n",
            "9       110        8        3     Speaker    3           Shoppers\n",
            "10      111       30        4  Humidifier    2           Shoppers\n",
            "11      112        8       13  Microphone    2  Kessington Market\n",
            "12      113       13        5      Heater    2           Shoppers\n",
            "13      114       30       15      Tripod    2            Rotunda\n",
            "14      115       20       13  Microphone    2  Kessington Market\n",
            "15      116        2        3     Speaker    2        Brisby Mall\n",
            "16      117       10        3     Speaker    3  Kessington Market\n",
            "17      118        8       17   Microwave    3           Shoppers\n",
            "18      119        5        5      Heater    2            Rotunda\n",
            "19      120       28        1   Headphone    1        Brisby Mall\n",
            "20      121        4        5      Heater    3           Shoppers\n",
            "21      122       24       16       Mixer    2        Brisby Mall\n",
            "22      123       10        1   Headphone    2  Kessington Market\n",
            "23      124       13       15      Tripod    1        Brisby Mall\n",
            "24      125       27       17   Microwave    3           Shoppers\n",
            "25      126        7        2     Printer    2  Kessington Market\n",
            "26      127       24       14       Piano    1  Kessington Market\n",
            "27      128       15       13  Microphone    1            Rotunda\n",
            "28      129       14       19       Dryer    1        Brisby Mall\n",
            "29      130       13       18      Washer    2           Shoppers\n"
          ]
        }
      ]
    },
    {
      "cell_type": "markdown",
      "source": [
        "19. Crear una serie desde una lista"
      ],
      "metadata": {
        "id": "_vw7HoRjaVXo"
      }
    },
    {
      "cell_type": "code",
      "source": [
        "# Crear una serie desde una lista\n",
        "mi_lista = [1, 2, 3, 4, 5]\n",
        "mi_serie = pd.Series(mi_lista)\n",
        "\n",
        "# Mostrar la serie\n",
        "print(mi_serie)\n"
      ],
      "metadata": {
        "colab": {
          "base_uri": "https://localhost:8080/"
        },
        "id": "rUfgiR_raVPJ",
        "outputId": "3706faa8-a6b7-440d-81bf-ac1528099413"
      },
      "execution_count": 12,
      "outputs": [
        {
          "output_type": "stream",
          "name": "stdout",
          "text": [
            "0    1\n",
            "1    2\n",
            "2    3\n",
            "3    4\n",
            "4    5\n",
            "dtype: int64\n"
          ]
        }
      ]
    },
    {
      "cell_type": "markdown",
      "source": [
        "20. Crear un DataFrame desde un diccionario"
      ],
      "metadata": {
        "id": "L_mtBaCQasll"
      }
    },
    {
      "cell_type": "code",
      "source": [
        "# Crear un DataFrame desde un diccionario\n",
        "mi_diccionario = {'A': [1, 2, 3], 'B': [4, 5, 6], 'C': [7, 8, 9]}\n",
        "mi_dataframe = pd.DataFrame(mi_diccionario)\n",
        "\n",
        "# Mostrar el DataFrame\n",
        "print(mi_dataframe)\n"
      ],
      "metadata": {
        "colab": {
          "base_uri": "https://localhost:8080/"
        },
        "id": "KtnpCUKGasM8",
        "outputId": "9318d8ea-1435-416b-b757-a446e2f9a8d3"
      },
      "execution_count": 13,
      "outputs": [
        {
          "output_type": "stream",
          "name": "stdout",
          "text": [
            "   A  B  C\n",
            "0  1  4  7\n",
            "1  2  5  8\n",
            "2  3  6  9\n"
          ]
        }
      ]
    }
  ]
}